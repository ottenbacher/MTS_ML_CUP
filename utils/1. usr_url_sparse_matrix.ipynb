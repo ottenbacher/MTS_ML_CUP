{
 "cells": [
  {
   "cell_type": "code",
   "execution_count": 1,
   "id": "b5cac4d3",
   "metadata": {},
   "outputs": [],
   "source": [
    "import sys\n",
    "import os\n",
    "import warnings\n",
    "os.environ['OPENBLAS_NUM_THREADS'] = '1'\n",
    "warnings.filterwarnings('ignore')\n",
    "import pickle\n",
    "import datetime\n",
    "\n",
    "import pandas as pd\n",
    "import numpy as np\n",
    "import time\n",
    "import pyarrow.parquet as pq\n",
    "from scipy.sparse import csr_matrix, coo_matrix, vstack, save_npz\n",
    "\n",
    "import vaex\n",
    "\n",
    "#from tqdm.notebook import tqdm"
   ]
  },
  {
   "cell_type": "code",
   "execution_count": 2,
   "id": "acad865c",
   "metadata": {},
   "outputs": [],
   "source": [
    "LOCAL_DATA_PATH = 'context_data'\n",
    "SPLIT_SEED = 42\n",
    "DATA_FILE = 'competition_data_final_pqt'\n",
    "TARGET_FILE = 'public_train.pqt'\n",
    "SUBMISSION_FILE = 'submit_2.pqt'"
   ]
  },
  {
   "cell_type": "code",
   "execution_count": 3,
   "id": "287cd7dd",
   "metadata": {},
   "outputs": [],
   "source": [
    "df = vaex.open(f'../{LOCAL_DATA_PATH}/{DATA_FILE}')"
   ]
  },
  {
   "cell_type": "code",
   "execution_count": 4,
   "id": "1c083499",
   "metadata": {},
   "outputs": [
    {
     "name": "stdout",
     "output_type": "stream",
     "text": [
      "CPU times: total: 5min 13s\n",
      "Wall time: 39.2 s\n"
     ]
    }
   ],
   "source": [
    "%%time\n",
    "data_agg = df[['user_id', 'url_host', 'request_cnt']].\\\n",
    "    groupby(['user_id', 'url_host']).agg([('request_cnt', \"sum\")])"
   ]
  },
  {
   "cell_type": "code",
   "execution_count": 5,
   "id": "d5f8c0b0",
   "metadata": {},
   "outputs": [
    {
     "name": "stdout",
     "output_type": "stream",
     "text": [
      "199683 urls\n",
      "415317 users\n"
     ]
    }
   ],
   "source": [
    "url_set = set(data_agg['url_host'].unique())\n",
    "print(f'{len(url_set)} urls')\n",
    "url_dict = {url: idurl for url, idurl in zip(url_set, range(len(url_set)))}\n",
    "usr_set = set(data_agg['user_id'].unique())\n",
    "print(f'{len(usr_set)} users')\n",
    "usr_dict = {usr: user_id for usr, user_id in zip(usr_set, range(len(usr_set)))}"
   ]
  },
  {
   "cell_type": "code",
   "execution_count": 6,
   "id": "c469b434",
   "metadata": {},
   "outputs": [
    {
     "name": "stdout",
     "output_type": "stream",
     "text": [
      "CPU times: total: 19.9 s\n",
      "Wall time: 4.05 s\n"
     ]
    },
    {
     "data": {
      "text/plain": [
       "<415317x199683 sparse matrix of type '<class 'numpy.uint16'>'\n",
       "\twith 32277669 stored elements in Compressed Sparse Row format>"
      ]
     },
     "execution_count": 6,
     "metadata": {},
     "output_type": "execute_result"
    }
   ],
   "source": [
    "%%time\n",
    "values = data_agg['request_cnt'].values.astype(np.uint16)\n",
    "rows = data_agg['user_id'].map(usr_dict).to_numpy()\n",
    "cols = data_agg['url_host'].map(url_dict).to_numpy()\n",
    "mat = csr_matrix((values, (rows, cols)), shape=(rows.max() + 1, cols.max() + 1))\n",
    "mat"
   ]
  },
  {
   "cell_type": "code",
   "execution_count": 7,
   "id": "aa7c9eba",
   "metadata": {},
   "outputs": [],
   "source": [
    "save_npz('mat.npz', mat)\n",
    "\n",
    "with open('url_usr_dicts.pickle', 'wb') as outp:\n",
    "    pickle.dump((url_dict, usr_dict), outp, pickle.HIGHEST_PROTOCOL)"
   ]
  },
  {
   "cell_type": "code",
   "execution_count": null,
   "id": "effe38ce",
   "metadata": {},
   "outputs": [],
   "source": []
  }
 ],
 "metadata": {
  "kernelspec": {
   "display_name": "Python [conda env:ml_env_v1] *",
   "language": "python",
   "name": "conda-env-ml_env_v1-py"
  },
  "language_info": {
   "codemirror_mode": {
    "name": "ipython",
    "version": 3
   },
   "file_extension": ".py",
   "mimetype": "text/x-python",
   "name": "python",
   "nbconvert_exporter": "python",
   "pygments_lexer": "ipython3",
   "version": "3.10.5"
  }
 },
 "nbformat": 4,
 "nbformat_minor": 5
}
