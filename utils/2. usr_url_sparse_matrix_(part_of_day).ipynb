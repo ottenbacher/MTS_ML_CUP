{
 "cells": [
  {
   "cell_type": "code",
   "execution_count": 1,
   "id": "b0aef7c2",
   "metadata": {},
   "outputs": [
    {
     "name": "stderr",
     "output_type": "stream",
     "text": [
      "C:\\ProgramData\\Miniconda3\\envs\\ml_env_v1\\lib\\site-packages\\numpy\\_distributor_init.py:30: UserWarning: loaded more than 1 DLL from .libs:\n",
      "C:\\ProgramData\\Miniconda3\\envs\\ml_env_v1\\lib\\site-packages\\numpy\\.libs\\libopenblas.EL2C6PLE4ZYW3ECEVIV3OXXGRN2NRFM2.gfortran-win_amd64.dll\n",
      "C:\\ProgramData\\Miniconda3\\envs\\ml_env_v1\\lib\\site-packages\\numpy\\.libs\\libopenblas.FB5AE2TYXYH2IJRDKGDGQ3XBKLKTF43H.gfortran-win_amd64.dll\n",
      "  warnings.warn(\"loaded more than 1 DLL from .libs:\"\n",
      "Intel(R) Extension for Scikit-learn* enabled (https://github.com/intel/scikit-learn-intelex)\n"
     ]
    }
   ],
   "source": [
    "import os\n",
    "import numpy as np\n",
    "from scipy.sparse import csr_matrix, coo_matrix, vstack, save_npz, load_npz\n",
    "\n",
    "import pandas as pd\n",
    "#import matplotlib.pyplot as plt\n",
    "#import seaborn as sns\n",
    "from tqdm.notebook import tqdm\n",
    "from sys import getsizeof\n",
    "import gc\n",
    "#from catboost import CatBoostRegressor, cv, Pool, sum_models\n",
    "from sklearn.model_selection import StratifiedKFold, train_test_split\n",
    "#from sklearn.preprocessing import StandardScaler, MinMaxScaler\n",
    "from sklearn.metrics import roc_auc_score\n",
    "from sklearn.preprocessing import QuantileTransformer, MaxAbsScaler\n",
    "\n",
    "import vaex\n",
    "import pyarrow.parquet as pq\n",
    "import bisect\n",
    "\n",
    "import pickle\n",
    "from random import shuffle\n",
    "import datetime"
   ]
  },
  {
   "cell_type": "code",
   "execution_count": 2,
   "id": "45444ec9",
   "metadata": {},
   "outputs": [],
   "source": [
    "LOCAL_DATA_PATH = 'context_data'\n",
    "SPLIT_SEED = 42\n",
    "DATA_FILE = 'competition_data_final_pqt'\n",
    "TARGET_FILE = 'public_train.pqt'\n",
    "SUBMISSION_FILE = 'submit_2.pqt'"
   ]
  },
  {
   "cell_type": "code",
   "execution_count": 4,
   "id": "ef493498",
   "metadata": {},
   "outputs": [],
   "source": [
    "df = vaex.open(f'../{LOCAL_DATA_PATH}/{DATA_FILE}')"
   ]
  },
  {
   "cell_type": "code",
   "execution_count": 5,
   "id": "89bfa6fb",
   "metadata": {},
   "outputs": [
    {
     "name": "stdout",
     "output_type": "stream",
     "text": [
      "CPU times: total: 3min 12s\n",
      "Wall time: 14.1 s\n"
     ]
    }
   ],
   "source": [
    "%%time\n",
    "\n",
    "df['date'] = df.date.astype(str)\n",
    "dates_list = df.date.unique()\n",
    "dow_dict = {}\n",
    "for dtx in dates_list:\n",
    "    dow_dict[dtx] = datetime.datetime.strptime(dtx, '%Y-%m-%d').strftime(\"%A\")\n",
    "df['dow'] = df['date'].map(dow_dict)"
   ]
  },
  {
   "cell_type": "code",
   "execution_count": 6,
   "id": "7c20064b",
   "metadata": {},
   "outputs": [],
   "source": [
    "data_agg_pod = df[['user_id', 'url_host', 'part_of_day', 'request_cnt']].\\\n",
    "    groupby(['user_id', 'url_host', 'part_of_day']).agg([('request_cnt', \"sum\")])\n",
    "data_agg_pod['url_host_pod'] = data_agg_pod.url_host + '_' + data_agg_pod.part_of_day"
   ]
  },
  {
   "cell_type": "code",
   "execution_count": 7,
   "id": "425a7f5b",
   "metadata": {},
   "outputs": [
    {
     "name": "stdout",
     "output_type": "stream",
     "text": [
      "474010 urls\n"
     ]
    }
   ],
   "source": [
    "url_list = data_agg_pod['url_host_pod'].unique()\n",
    "url_dict = {url: idurl for url, idurl in zip(url_list, range(len(url_list)))}\n",
    "print(f'{len(url_dict)} urls')"
   ]
  },
  {
   "cell_type": "code",
   "execution_count": 8,
   "id": "4137c269",
   "metadata": {},
   "outputs": [
    {
     "data": {
      "text/plain": [
       "<415317x474010 sparse matrix of type '<class 'numpy.uint16'>'\n",
       "\twith 63003895 stored elements in Compressed Sparse Row format>"
      ]
     },
     "execution_count": 8,
     "metadata": {},
     "output_type": "execute_result"
    }
   ],
   "source": [
    "values = data_agg_pod['request_cnt'].values.astype(np.uint16)\n",
    "rows = data_agg_pod['user_id'].to_numpy().astype(np.int32)\n",
    "cols = data_agg_pod['url_host_pod'].map(url_dict).to_numpy().astype(np.int32)\n",
    "mat = csr_matrix((values, (rows, cols)), shape=(rows.max() + 1, cols.max() + 1))\n",
    "mat"
   ]
  },
  {
   "cell_type": "code",
   "execution_count": 9,
   "id": "6cbbbec3",
   "metadata": {},
   "outputs": [],
   "source": [
    "save_npz('mat_pod.npz', mat)"
   ]
  },
  {
   "cell_type": "code",
   "execution_count": null,
   "id": "b8a89e86",
   "metadata": {},
   "outputs": [],
   "source": []
  }
 ],
 "metadata": {
  "kernelspec": {
   "display_name": "Python [conda env:ml_env_v1] *",
   "language": "python",
   "name": "conda-env-ml_env_v1-py"
  },
  "language_info": {
   "codemirror_mode": {
    "name": "ipython",
    "version": 3
   },
   "file_extension": ".py",
   "mimetype": "text/x-python",
   "name": "python",
   "nbconvert_exporter": "python",
   "pygments_lexer": "ipython3",
   "version": "3.10.5"
  }
 },
 "nbformat": 4,
 "nbformat_minor": 5
}
