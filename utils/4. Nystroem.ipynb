{
 "cells": [
  {
   "cell_type": "code",
   "execution_count": 1,
   "id": "5afcf115",
   "metadata": {},
   "outputs": [
    {
     "name": "stderr",
     "output_type": "stream",
     "text": [
      "C:\\ProgramData\\Miniconda3\\envs\\ml_env_v1\\lib\\site-packages\\numpy\\_distributor_init.py:30: UserWarning: loaded more than 1 DLL from .libs:\n",
      "C:\\ProgramData\\Miniconda3\\envs\\ml_env_v1\\lib\\site-packages\\numpy\\.libs\\libopenblas.EL2C6PLE4ZYW3ECEVIV3OXXGRN2NRFM2.gfortran-win_amd64.dll\n",
      "C:\\ProgramData\\Miniconda3\\envs\\ml_env_v1\\lib\\site-packages\\numpy\\.libs\\libopenblas.FB5AE2TYXYH2IJRDKGDGQ3XBKLKTF43H.gfortran-win_amd64.dll\n",
      "  warnings.warn(\"loaded more than 1 DLL from .libs:\"\n",
      "Intel(R) Extension for Scikit-learn* enabled (https://github.com/intel/scikit-learn-intelex)\n",
      "C:\\ProgramData\\Miniconda3\\envs\\ml_env_v1\\lib\\site-packages\\xgboost\\compat.py:36: FutureWarning: pandas.Int64Index is deprecated and will be removed from pandas in a future version. Use pandas.Index with the appropriate dtype instead.\n",
      "  from pandas import MultiIndex, Int64Index\n"
     ]
    }
   ],
   "source": [
    "import os\n",
    "import numpy as np\n",
    "from scipy.sparse import csr_matrix, coo_matrix, vstack, load_npz\n",
    "\n",
    "import pandas as pd\n",
    "#import matplotlib.pyplot as plt\n",
    "#import seaborn as sns\n",
    "from tqdm.notebook import tqdm\n",
    "from sys import getsizeof\n",
    "import gc\n",
    "#from catboost import CatBoostRegressor, cv, Pool, sum_models\n",
    "from sklearn.model_selection import StratifiedKFold, train_test_split\n",
    "#from sklearn.preprocessing import StandardScaler, MinMaxScaler\n",
    "from sklearn.metrics import roc_auc_score, log_loss\n",
    "from sklearn.preprocessing import MaxAbsScaler\n",
    "from sklearn.kernel_approximation import Nystroem\n",
    "from sklearn.linear_model import SGDClassifier\n",
    "from catboost import CatBoostClassifier, CatBoostRegressor, cv, Pool, sum_models, EShapCalcType, EFeaturesSelectionAlgorithm\n",
    "\n",
    "import vaex\n",
    "import pyarrow.parquet as pq\n",
    "import bisect\n",
    "\n",
    "import pickle"
   ]
  },
  {
   "cell_type": "code",
   "execution_count": 2,
   "id": "088e17d5",
   "metadata": {},
   "outputs": [],
   "source": [
    "LOCAL_DATA_PATH = 'context_data'\n",
    "SPLIT_SEED = 42\n",
    "DATA_FILE = 'competition_data_final_pqt'\n",
    "TARGET_FILE = 'public_train.pqt'\n",
    "SUBMISSION_FILE = 'submit_2.pqt'"
   ]
  },
  {
   "cell_type": "code",
   "execution_count": 3,
   "id": "d5b9f89f",
   "metadata": {},
   "outputs": [],
   "source": [
    "id_to_submit = pq.read_table(f'../{LOCAL_DATA_PATH}/{SUBMISSION_FILE}').to_pandas()\n",
    "tgt = pq.read_table(f'../{LOCAL_DATA_PATH}/{TARGET_FILE}').to_pandas()"
   ]
  },
  {
   "cell_type": "code",
   "execution_count": 4,
   "id": "74c2e1b8",
   "metadata": {},
   "outputs": [
    {
     "data": {
      "text/plain": [
       "<415317x199683 sparse matrix of type '<class 'numpy.uint16'>'\n",
       "\twith 32277669 stored elements in Compressed Sparse Row format>"
      ]
     },
     "execution_count": 4,
     "metadata": {},
     "output_type": "execute_result"
    }
   ],
   "source": [
    "mat = load_npz('mat.npz')\n",
    "mat"
   ]
  },
  {
   "cell_type": "code",
   "execution_count": 5,
   "id": "f1e9285b",
   "metadata": {},
   "outputs": [],
   "source": [
    "sc = MaxAbsScaler()\n",
    "mat = sc.fit_transform(mat)"
   ]
  },
  {
   "cell_type": "code",
   "execution_count": 35,
   "id": "9f22791c",
   "metadata": {},
   "outputs": [
    {
     "name": "stdout",
     "output_type": "stream",
     "text": [
      "CPU times: total: 6min 43s\n",
      "Wall time: 28.3 s\n"
     ]
    }
   ],
   "source": [
    "%%time\n",
    "Ny = Nystroem(kernel='laplacian', n_components=1000, random_state=722, n_jobs=-1)\n",
    "emb = Ny.fit_transform(mat)"
   ]
  },
  {
   "cell_type": "code",
   "execution_count": 36,
   "id": "fdf40d3f",
   "metadata": {},
   "outputs": [
    {
     "data": {
      "text/plain": [
       "array([[0.03161442, 0.03159824, 0.03159444, ..., 0.03163573, 0.03157541,\n",
       "        0.03166035],\n",
       "       [0.03164279, 0.03162547, 0.03164188, ..., 0.03162936, 0.03155789,\n",
       "        0.03164372],\n",
       "       [0.03160831, 0.03162306, 0.03161042, ..., 0.03161816, 0.03158432,\n",
       "        0.03160646],\n",
       "       ...,\n",
       "       [0.03161288, 0.03160652, 0.03159456, ..., 0.03162352, 0.03156314,\n",
       "        0.03165066],\n",
       "       [0.03161295, 0.03160652, 0.03159457, ..., 0.03162343, 0.03156313,\n",
       "        0.03165012],\n",
       "       [0.03161301, 0.03160652, 0.03159455, ..., 0.03162346, 0.03156314,\n",
       "        0.03165018]])"
      ]
     },
     "execution_count": 36,
     "metadata": {},
     "output_type": "execute_result"
    }
   ],
   "source": [
    "emb"
   ]
  },
  {
   "cell_type": "code",
   "execution_count": 37,
   "id": "489f8abd",
   "metadata": {},
   "outputs": [],
   "source": [
    "with open('nys/emb.pickle', 'wb') as outp:\n",
    "    pickle.dump(emb, outp, pickle.HIGHEST_PROTOCOL)"
   ]
  },
  {
   "cell_type": "code",
   "execution_count": 32,
   "id": "1fadcde3",
   "metadata": {},
   "outputs": [],
   "source": [
    "idx_tr = tgt[(tgt.is_male == '0') | (tgt.is_male == '1')].index.values\n",
    "X = emb[idx_tr]\n",
    "y = tgt[(tgt.is_male == '0') | (tgt.is_male == '1')].is_male.values"
   ]
  },
  {
   "cell_type": "code",
   "execution_count": 36,
   "id": "609d6aab",
   "metadata": {},
   "outputs": [
    {
     "data": {
      "application/vnd.jupyter.widget-view+json": {
       "model_id": "2b6015dd1eb749258020169ed19d69c6",
       "version_major": 2,
       "version_minor": 0
      },
      "text/plain": [
       "MetricVisualizer(layout=Layout(align_self='stretch', height='500px'))"
      ]
     },
     "metadata": {},
     "output_type": "display_data"
    },
    {
     "name": "stdout",
     "output_type": "stream",
     "text": [
      "0:\tlearn: 0.6866517\ttest: 0.6865818\tbest: 0.6865818 (0)\ttotal: 82.2ms\tremaining: 16m 26s\n",
      "2000:\tlearn: 0.4240968\ttest: 0.4953351\tbest: 0.4953209 (1997)\ttotal: 44s\tremaining: 3m 39s\n",
      "4000:\tlearn: 0.3586252\ttest: 0.4915718\tbest: 0.4915554 (3998)\ttotal: 1m 27s\tremaining: 2m 55s\n",
      "bestTest = 0.4909954383\n",
      "bestIteration = 4597\n",
      "Shrink model to first 4598 iterations.\n"
     ]
    },
    {
     "data": {
      "application/vnd.jupyter.widget-view+json": {
       "model_id": "f6c63c1ed65f4168b523a9537cc056db",
       "version_major": 2,
       "version_minor": 0
      },
      "text/plain": [
       "MetricVisualizer(layout=Layout(align_self='stretch', height='500px'))"
      ]
     },
     "metadata": {},
     "output_type": "display_data"
    },
    {
     "name": "stdout",
     "output_type": "stream",
     "text": [
      "0:\tlearn: 0.6873683\ttest: 0.6874712\tbest: 0.6874712 (0)\ttotal: 90ms\tremaining: 17m 59s\n",
      "2000:\tlearn: 0.4239585\ttest: 0.4958862\tbest: 0.4958862 (2000)\ttotal: 44.5s\tremaining: 3m 42s\n",
      "bestTest = 0.4923273757\n",
      "bestIteration = 3250\n",
      "Shrink model to first 3251 iterations.\n"
     ]
    },
    {
     "data": {
      "application/vnd.jupyter.widget-view+json": {
       "model_id": "80f6a55dcccb4217ac249276e51ad564",
       "version_major": 2,
       "version_minor": 0
      },
      "text/plain": [
       "MetricVisualizer(layout=Layout(align_self='stretch', height='500px'))"
      ]
     },
     "metadata": {},
     "output_type": "display_data"
    },
    {
     "name": "stdout",
     "output_type": "stream",
     "text": [
      "0:\tlearn: 0.6873077\ttest: 0.6875480\tbest: 0.6875480 (0)\ttotal: 77.9ms\tremaining: 15m 35s\n",
      "2000:\tlearn: 0.4235196\ttest: 0.4978607\tbest: 0.4978607 (2000)\ttotal: 43.8s\tremaining: 3m 39s\n",
      "4000:\tlearn: 0.3578791\ttest: 0.4942126\tbest: 0.4942062 (3879)\ttotal: 1m 27s\tremaining: 2m 55s\n",
      "bestTest = 0.4937623767\n",
      "bestIteration = 4685\n",
      "Shrink model to first 4686 iterations.\n"
     ]
    },
    {
     "data": {
      "application/vnd.jupyter.widget-view+json": {
       "model_id": "2616c7d38fe44231bcfa584651aacfd6",
       "version_major": 2,
       "version_minor": 0
      },
      "text/plain": [
       "MetricVisualizer(layout=Layout(align_self='stretch', height='500px'))"
      ]
     },
     "metadata": {},
     "output_type": "display_data"
    },
    {
     "name": "stdout",
     "output_type": "stream",
     "text": [
      "0:\tlearn: 0.6868688\ttest: 0.6869474\tbest: 0.6869474 (0)\ttotal: 91.5ms\tremaining: 18m 17s\n",
      "2000:\tlearn: 0.4241697\ttest: 0.4971563\tbest: 0.4971441 (1999)\ttotal: 43.8s\tremaining: 3m 38s\n",
      "4000:\tlearn: 0.3586775\ttest: 0.4928937\tbest: 0.4928565 (3991)\ttotal: 1m 27s\tremaining: 2m 55s\n",
      "bestTest = 0.4925080763\n",
      "bestIteration = 5053\n",
      "Shrink model to first 5054 iterations.\n"
     ]
    },
    {
     "data": {
      "application/vnd.jupyter.widget-view+json": {
       "model_id": "5f244b9f0e1e45b99bbae1f789266f06",
       "version_major": 2,
       "version_minor": 0
      },
      "text/plain": [
       "MetricVisualizer(layout=Layout(align_self='stretch', height='500px'))"
      ]
     },
     "metadata": {},
     "output_type": "display_data"
    },
    {
     "name": "stdout",
     "output_type": "stream",
     "text": [
      "0:\tlearn: 0.6868452\ttest: 0.6870977\tbest: 0.6870977 (0)\ttotal: 84.7ms\tremaining: 16m 56s\n",
      "2000:\tlearn: 0.4239064\ttest: 0.4956504\tbest: 0.4956470 (1998)\ttotal: 44s\tremaining: 3m 39s\n",
      "4000:\tlearn: 0.3586415\ttest: 0.4920601\tbest: 0.4920354 (3968)\ttotal: 1m 28s\tremaining: 2m 56s\n",
      "bestTest = 0.4919422926\n",
      "bestIteration = 4131\n",
      "Shrink model to first 4132 iterations.\n",
      "CPU times: total: 24min 30s\n",
      "Wall time: 13min 19s\n"
     ]
    }
   ],
   "source": [
    "%%time\n",
    "\n",
    "\n",
    "models_1 = []\n",
    "params = {'iterations': 12000,\n",
    "          'depth': 5,\n",
    "          #'random_strength': 2.5,\n",
    "          #'l2_leaf_reg': 3,\n",
    "          'learning_rate': 0.1,\n",
    "          'border_count': 256,\n",
    "          #'grow_policy': 'Lossguide',\n",
    "          #'loss_function': FocalLossObjective(),\n",
    "          #'custom_metric': ['AUC'],\n",
    "          #'eval_metric': \"AUC\", \n",
    "          'score_function': 'NewtonCosine',\n",
    "          'task_type': \"GPU\",\n",
    "          'thread_count': 16,\n",
    "          'early_stopping_rounds': 500,\n",
    "          'verbose': 2000, # output to stdout info about training process every 200 iterations\n",
    "          'random_seed': 722\n",
    "         }\n",
    "\n",
    "cv = StratifiedKFold(n_splits=5, shuffle=True, random_state=0)\n",
    "for train_idx, test_idx in cv.split(X, y):\n",
    "    cbc = CatBoostClassifier(**params)\n",
    "    cbc.fit(X[train_idx], y[train_idx], \n",
    "        eval_set=(X[test_idx], y[test_idx]), # data to validate on\n",
    "        use_best_model=True, \n",
    "        plot=True \n",
    "        )\n",
    "    models_1.append(cbc)"
   ]
  }
 ],
 "metadata": {
  "kernelspec": {
   "display_name": "Python [conda env:ml_env_v1] *",
   "language": "python",
   "name": "conda-env-ml_env_v1-py"
  },
  "language_info": {
   "codemirror_mode": {
    "name": "ipython",
    "version": 3
   },
   "file_extension": ".py",
   "mimetype": "text/x-python",
   "name": "python",
   "nbconvert_exporter": "python",
   "pygments_lexer": "ipython3",
   "version": "3.10.5"
  }
 },
 "nbformat": 4,
 "nbformat_minor": 5
}
