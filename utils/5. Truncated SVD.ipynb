{
 "cells": [
  {
   "cell_type": "code",
   "execution_count": 11,
   "id": "74530128",
   "metadata": {},
   "outputs": [],
   "source": [
    "import sys\n",
    "import os\n",
    "import warnings\n",
    "os.environ['OPENBLAS_NUM_THREADS'] = '1'\n",
    "warnings.filterwarnings('ignore')\n",
    "import pickle\n",
    "\n",
    "import pandas as pd\n",
    "import numpy as np\n",
    "import time\n",
    "import pyarrow.parquet as pq\n",
    "import scipy\n",
    "import implicit\n",
    "import bisect\n",
    "import sklearn.metrics as m\n",
    "from catboost import CatBoostClassifier, CatBoostRegressor, Pool\n",
    "from sklearn.model_selection import train_test_split\n",
    "from sklearn.calibration import calibration_curve, CalibratedClassifierCV\n",
    "#from sklearn.preprocessing import MinMaxScaler\n",
    "import vaex\n",
    "import seaborn as sns\n",
    "from sklearn.decomposition import TruncatedSVD"
   ]
  },
  {
   "cell_type": "code",
   "execution_count": 2,
   "id": "bcba2bdd",
   "metadata": {},
   "outputs": [],
   "source": [
    "LOCAL_DATA_PATH = 'context_data'\n",
    "SPLIT_SEED = 42\n",
    "DATA_FILE = 'competition_data_final_pqt'\n",
    "TARGET_FILE = 'public_train.pqt'\n",
    "SUBMISSION_FILE = 'submit_2.pqt'"
   ]
  },
  {
   "cell_type": "code",
   "execution_count": 3,
   "id": "24867bfa",
   "metadata": {},
   "outputs": [],
   "source": [
    "df = vaex.open(f'../{LOCAL_DATA_PATH}/{DATA_FILE}')"
   ]
  },
  {
   "cell_type": "code",
   "execution_count": 4,
   "id": "acbf5620",
   "metadata": {},
   "outputs": [
    {
     "name": "stdout",
     "output_type": "stream",
     "text": [
      "CPU times: total: 5min 34s\n",
      "Wall time: 43.5 s\n"
     ]
    }
   ],
   "source": [
    "%%time\n",
    "data_agg = df[['user_id', 'url_host', 'request_cnt']].\\\n",
    "    groupby(['user_id', 'url_host']).agg([('request_cnt', \"sum\")])"
   ]
  },
  {
   "cell_type": "code",
   "execution_count": 5,
   "id": "7ab4af8a",
   "metadata": {},
   "outputs": [
    {
     "name": "stdout",
     "output_type": "stream",
     "text": [
      "199683 urls\n",
      "415317 users\n"
     ]
    }
   ],
   "source": [
    "url_set = set(data_agg['url_host'].unique())\n",
    "print(f'{len(url_set)} urls')\n",
    "url_dict = {url: idurl for url, idurl in zip(url_set, range(len(url_set)))}\n",
    "usr_set = set(data_agg['user_id'].unique())\n",
    "print(f'{len(usr_set)} users')\n",
    "usr_dict = {usr: user_id for usr, user_id in zip(usr_set, range(len(usr_set)))}"
   ]
  },
  {
   "cell_type": "code",
   "execution_count": 8,
   "id": "b170679d",
   "metadata": {},
   "outputs": [
    {
     "name": "stdout",
     "output_type": "stream",
     "text": [
      "CPU times: total: 21.8 s\n",
      "Wall time: 4.62 s\n"
     ]
    },
    {
     "data": {
      "text/plain": [
       "<415317x199683 sparse matrix of type '<class 'numpy.int64'>'\n",
       "\twith 32277669 stored elements in Compressed Sparse Row format>"
      ]
     },
     "execution_count": 8,
     "metadata": {},
     "output_type": "execute_result"
    }
   ],
   "source": [
    "%%time\n",
    "values = data_agg['request_cnt'].values\n",
    "rows = data_agg['user_id'].map(usr_dict).to_numpy()\n",
    "cols = data_agg['url_host'].map(url_dict).to_numpy()\n",
    "mat = scipy.sparse.csr_matrix((values, (rows, cols)), shape=(rows.max() + 1, cols.max() + 1))\n",
    "mat"
   ]
  },
  {
   "cell_type": "code",
   "execution_count": 9,
   "id": "7c418565",
   "metadata": {},
   "outputs": [
    {
     "name": "stdout",
     "output_type": "stream",
     "text": [
      "0.9987050120259241\n",
      "CPU times: total: 19min 59s\n",
      "Wall time: 6min 44s\n"
     ]
    }
   ],
   "source": [
    "%%time\n",
    "svd = TruncatedSVD(n_components=1000, n_iter=7, n_oversamples=15, random_state=SPLIT_SEED)\n",
    "emb = svd.fit_transform(mat)\n",
    "print(svd.explained_variance_ratio_.sum())"
   ]
  },
  {
   "cell_type": "code",
   "execution_count": 12,
   "id": "540f50b8",
   "metadata": {},
   "outputs": [],
   "source": [
    "with open('tsvd/emb.pickle', 'wb') as outp:\n",
    "    pickle.dump(emb, outp, pickle.HIGHEST_PROTOCOL)"
   ]
  },
  {
   "cell_type": "code",
   "execution_count": null,
   "id": "46f47311",
   "metadata": {},
   "outputs": [],
   "source": []
  }
 ],
 "metadata": {
  "kernelspec": {
   "display_name": "Python [conda env:ml_env_v1] *",
   "language": "python",
   "name": "conda-env-ml_env_v1-py"
  },
  "language_info": {
   "codemirror_mode": {
    "name": "ipython",
    "version": 3
   },
   "file_extension": ".py",
   "mimetype": "text/x-python",
   "name": "python",
   "nbconvert_exporter": "python",
   "pygments_lexer": "ipython3",
   "version": "3.10.5"
  }
 },
 "nbformat": 4,
 "nbformat_minor": 5
}
