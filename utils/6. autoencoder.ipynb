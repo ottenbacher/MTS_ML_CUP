{
 "cells": [
  {
   "cell_type": "code",
   "execution_count": 1,
   "id": "3ce3fd5b",
   "metadata": {},
   "outputs": [
    {
     "name": "stderr",
     "output_type": "stream",
     "text": [
      "C:\\ProgramData\\Miniconda3\\envs\\ml_env_v1\\lib\\site-packages\\xgboost\\compat.py:36: FutureWarning: pandas.Int64Index is deprecated and will be removed from pandas in a future version. Use pandas.Index with the appropriate dtype instead.\n",
      "  from pandas import MultiIndex, Int64Index\n",
      "Intel(R) Extension for Scikit-learn* enabled (https://github.com/intel/scikit-learn-intelex)\n"
     ]
    }
   ],
   "source": [
    "import os\n",
    "import numpy as np\n",
    "from scipy.sparse import csr_matrix, coo_matrix, vstack\n",
    "\n",
    "import pandas as pd\n",
    "import matplotlib.pyplot as plt\n",
    "import seaborn as sns\n",
    "from tqdm.notebook import tqdm\n",
    "from sys import getsizeof\n",
    "from catboost import CatBoostRegressor, cv, Pool, sum_models\n",
    "from sklearn.model_selection import train_test_split, StratifiedKFold, KFold, StratifiedGroupKFold\n",
    "from sklearn.preprocessing import StandardScaler, MinMaxScaler\n",
    "\n",
    "import vaex\n",
    "import pyarrow.parquet as pq\n",
    "import bisect\n",
    "\n",
    "import pickle\n",
    "from random import shuffle\n",
    "\n",
    "import tensorflow as tf\n",
    "from tensorflow.keras.utils import Sequence\n",
    "from tensorflow.keras.callbacks import EarlyStopping, ReduceLROnPlateau\n",
    "from tensorflow.keras import regularizers as R\n",
    "from tensorflow.keras.models import Model, load_model, Sequential\n",
    "from tensorflow.keras import layers as L\n",
    "from tensorflow.keras import optimizers as O\n",
    "from tensorflow.keras import backend as K\n",
    "from tensorflow.keras.losses import mse"
   ]
  },
  {
   "cell_type": "code",
   "execution_count": 2,
   "id": "e854c514",
   "metadata": {},
   "outputs": [],
   "source": [
    "LOCAL_DATA_PATH = 'context_data'\n",
    "SPLIT_SEED = 42\n",
    "DATA_FILE = 'competition_data_final_pqt'\n",
    "TARGET_FILE = 'public_train.pqt'\n",
    "SUBMISSION_FILE = 'submit_2.pqt'"
   ]
  },
  {
   "cell_type": "code",
   "execution_count": 3,
   "id": "740cf797",
   "metadata": {},
   "outputs": [
    {
     "data": {
      "text/html": [
       "<table>\n",
       "<thead>\n",
       "<tr><th>#                            </th><th>region_name       </th><th>city_name  </th><th>cpe_manufacturer_name  </th><th>cpe_model_name  </th><th>url_host                   </th><th>cpe_type_cd  </th><th>cpe_model_os_type  </th><th style=\"text-align: right;\">  price</th><th>date      </th><th>part_of_day  </th><th style=\"text-align: right;\">  request_cnt</th><th style=\"text-align: right;\">  user_id</th></tr>\n",
       "</thead>\n",
       "<tbody>\n",
       "<tr><td><i style='opacity: 0.6'>0</i></td><td>Краснодарский край</td><td>Краснодар  </td><td>Apple                  </td><td>iPhone 7        </td><td>ad.adriver.ru              </td><td>smartphone   </td><td>iOS                </td><td style=\"text-align: right;\">  20368</td><td>2022-06-15</td><td>morning      </td><td style=\"text-align: right;\">            1</td><td style=\"text-align: right;\">    45098</td></tr>\n",
       "<tr><td><i style='opacity: 0.6'>1</i></td><td>Краснодарский край</td><td>Краснодар  </td><td>Apple                  </td><td>iPhone 7        </td><td>apple.com                  </td><td>smartphone   </td><td>iOS                </td><td style=\"text-align: right;\">  20368</td><td>2022-06-19</td><td>morning      </td><td style=\"text-align: right;\">            1</td><td style=\"text-align: right;\">    45098</td></tr>\n",
       "<tr><td><i style='opacity: 0.6'>2</i></td><td>Краснодарский край</td><td>Краснодар  </td><td>Apple                  </td><td>iPhone 7        </td><td>avatars.mds.yandex.net     </td><td>smartphone   </td><td>iOS                </td><td style=\"text-align: right;\">  20368</td><td>2022-06-12</td><td>day          </td><td style=\"text-align: right;\">            1</td><td style=\"text-align: right;\">    45098</td></tr>\n",
       "<tr><td><i style='opacity: 0.6'>3</i></td><td>Краснодарский край</td><td>Краснодар  </td><td>Apple                  </td><td>iPhone 7        </td><td>googleads.g.doubleclick.net</td><td>smartphone   </td><td>iOS                </td><td style=\"text-align: right;\">  20368</td><td>2022-05-16</td><td>day          </td><td style=\"text-align: right;\">            1</td><td style=\"text-align: right;\">    45098</td></tr>\n",
       "<tr><td><i style='opacity: 0.6'>4</i></td><td>Краснодарский край</td><td>Краснодар  </td><td>Apple                  </td><td>iPhone 7        </td><td>googleads.g.doubleclick.net</td><td>smartphone   </td><td>iOS                </td><td style=\"text-align: right;\">  20368</td><td>2022-05-30</td><td>day          </td><td style=\"text-align: right;\">            1</td><td style=\"text-align: right;\">    45098</td></tr>\n",
       "<tr><td><i style='opacity: 0.6'>5</i></td><td>Краснодарский край</td><td>Краснодар  </td><td>Apple                  </td><td>iPhone 7        </td><td>i.ytimg.com                </td><td>smartphone   </td><td>iOS                </td><td style=\"text-align: right;\">  20368</td><td>2022-03-29</td><td>evening      </td><td style=\"text-align: right;\">            2</td><td style=\"text-align: right;\">    45098</td></tr>\n",
       "<tr><td><i style='opacity: 0.6'>6</i></td><td>Краснодарский край</td><td>Краснодар  </td><td>Apple                  </td><td>iPhone 7        </td><td>icloud.com                 </td><td>smartphone   </td><td>iOS                </td><td style=\"text-align: right;\">  20368</td><td>2022-03-17</td><td>morning      </td><td style=\"text-align: right;\">            1</td><td style=\"text-align: right;\">    45098</td></tr>\n",
       "<tr><td><i style='opacity: 0.6'>7</i></td><td>Краснодарский край</td><td>Краснодар  </td><td>Apple                  </td><td>iPhone 7        </td><td>m.avito.ru                 </td><td>smartphone   </td><td>iOS                </td><td style=\"text-align: right;\">  20368</td><td>2022-05-19</td><td>morning      </td><td style=\"text-align: right;\">            1</td><td style=\"text-align: right;\">    45098</td></tr>\n",
       "<tr><td><i style='opacity: 0.6'>8</i></td><td>Краснодарский край</td><td>Краснодар  </td><td>Apple                  </td><td>iPhone 7        </td><td>relap.io                   </td><td>smartphone   </td><td>iOS                </td><td style=\"text-align: right;\">  20368</td><td>2022-03-29</td><td>night        </td><td style=\"text-align: right;\">            1</td><td style=\"text-align: right;\">    45098</td></tr>\n",
       "<tr><td><i style='opacity: 0.6'>9</i></td><td>Краснодарский край</td><td>Краснодар  </td><td>Apple                  </td><td>iPhone 7        </td><td>sun9-5.userapi.com         </td><td>smartphone   </td><td>iOS                </td><td style=\"text-align: right;\">  20368</td><td>2022-06-16</td><td>day          </td><td style=\"text-align: right;\">            1</td><td style=\"text-align: right;\">    45098</td></tr>\n",
       "</tbody>\n",
       "</table>"
      ],
      "text/plain": [
       "  #  region_name         city_name    cpe_manufacturer_name    cpe_model_name    url_host                     cpe_type_cd    cpe_model_os_type      price  date        part_of_day      request_cnt    user_id\n",
       "  0  Краснодарский край  Краснодар    Apple                    iPhone 7          ad.adriver.ru                smartphone     iOS                    20368  2022-06-15  morning                    1      45098\n",
       "  1  Краснодарский край  Краснодар    Apple                    iPhone 7          apple.com                    smartphone     iOS                    20368  2022-06-19  morning                    1      45098\n",
       "  2  Краснодарский край  Краснодар    Apple                    iPhone 7          avatars.mds.yandex.net       smartphone     iOS                    20368  2022-06-12  day                        1      45098\n",
       "  3  Краснодарский край  Краснодар    Apple                    iPhone 7          googleads.g.doubleclick.net  smartphone     iOS                    20368  2022-05-16  day                        1      45098\n",
       "  4  Краснодарский край  Краснодар    Apple                    iPhone 7          googleads.g.doubleclick.net  smartphone     iOS                    20368  2022-05-30  day                        1      45098\n",
       "  5  Краснодарский край  Краснодар    Apple                    iPhone 7          i.ytimg.com                  smartphone     iOS                    20368  2022-03-29  evening                    2      45098\n",
       "  6  Краснодарский край  Краснодар    Apple                    iPhone 7          icloud.com                   smartphone     iOS                    20368  2022-03-17  morning                    1      45098\n",
       "  7  Краснодарский край  Краснодар    Apple                    iPhone 7          m.avito.ru                   smartphone     iOS                    20368  2022-05-19  morning                    1      45098\n",
       "  8  Краснодарский край  Краснодар    Apple                    iPhone 7          relap.io                     smartphone     iOS                    20368  2022-03-29  night                      1      45098\n",
       "  9  Краснодарский край  Краснодар    Apple                    iPhone 7          sun9-5.userapi.com           smartphone     iOS                    20368  2022-06-16  day                        1      45098"
      ]
     },
     "execution_count": 3,
     "metadata": {},
     "output_type": "execute_result"
    }
   ],
   "source": [
    "df = vaex.open(f'../{LOCAL_DATA_PATH}/{DATA_FILE}')\n",
    "df.head()"
   ]
  },
  {
   "cell_type": "code",
   "execution_count": 4,
   "id": "c09ab51f",
   "metadata": {},
   "outputs": [
    {
     "name": "stdout",
     "output_type": "stream",
     "text": [
      "CPU times: total: 5min 14s\n",
      "Wall time: 41 s\n"
     ]
    }
   ],
   "source": [
    "%%time\n",
    "data_agg = df[['user_id', 'url_host', 'request_cnt']].\\\n",
    "    groupby(['user_id', 'url_host']).agg([('request_cnt', \"sum\")])"
   ]
  },
  {
   "cell_type": "code",
   "execution_count": 5,
   "id": "0e531b0c",
   "metadata": {},
   "outputs": [
    {
     "name": "stdout",
     "output_type": "stream",
     "text": [
      "199683 urls\n",
      "415317 users\n"
     ]
    }
   ],
   "source": [
    "url_set = set(data_agg['url_host'].unique())\n",
    "print(f'{len(url_set)} urls')\n",
    "url_dict = {url: idurl for url, idurl in zip(url_set, range(len(url_set)))}\n",
    "usr_set = set(data_agg['user_id'].unique())\n",
    "print(f'{len(usr_set)} users')\n",
    "usr_dict = {usr: user_id for usr, user_id in zip(usr_set, range(len(usr_set)))}"
   ]
  },
  {
   "cell_type": "code",
   "execution_count": 6,
   "id": "fa740a7c",
   "metadata": {},
   "outputs": [
    {
     "name": "stdout",
     "output_type": "stream",
     "text": [
      "CPU times: total: 20.9 s\n",
      "Wall time: 4.15 s\n"
     ]
    },
    {
     "data": {
      "text/plain": [
       "<415317x199683 sparse matrix of type '<class 'numpy.intc'>'\n",
       "\twith 32277669 stored elements in Compressed Sparse Row format>"
      ]
     },
     "execution_count": 6,
     "metadata": {},
     "output_type": "execute_result"
    }
   ],
   "source": [
    "%%time\n",
    "values = data_agg['request_cnt'].values.astype(np.int32)\n",
    "rows = data_agg['user_id'].map(usr_dict).to_numpy()\n",
    "cols = data_agg['url_host'].map(url_dict).to_numpy()\n",
    "mat = csr_matrix((values, (rows, cols)), shape=(rows.max() + 1, cols.max() + 1))\n",
    "mat"
   ]
  },
  {
   "cell_type": "code",
   "execution_count": 7,
   "id": "56277f15",
   "metadata": {},
   "outputs": [],
   "source": [
    "train_idx, val_idx = train_test_split(np.arange(mat.shape[0]), test_size=0.1, shuffle=True, random_state=1)\n",
    "train_idx = np.sort(train_idx)    \n",
    "val_idx = np.sort(val_idx) "
   ]
  },
  {
   "cell_type": "code",
   "execution_count": 8,
   "id": "f98fdaa5",
   "metadata": {},
   "outputs": [],
   "source": [
    "class DataGenerator(Sequence):\n",
    "    def __init__(self, x_vals, batch_size, split_idx):\n",
    "        self.x_vals = x_vals\n",
    "        self.inds = split_idx\n",
    "        shuffle(self.inds)\n",
    "        self.batch_size = batch_size\n",
    "        \n",
    "    def __getitem__(self, item):\n",
    "        from_ind = self.batch_size * item\n",
    "        to_ind = self.batch_size * (item + 1)\n",
    "        res = self.x_vals[np.sort(self.inds[from_ind:to_ind])].todense()\n",
    "        return (res, res)\n",
    "    \n",
    "    def on_epoch_end(self):\n",
    "        shuffle(self.inds)\n",
    "        \n",
    "    def __len__(self):\n",
    "        return int(np.ceil(len(self.inds) / float(self.batch_size)))"
   ]
  },
  {
   "cell_type": "code",
   "execution_count": 9,
   "id": "b6892b05",
   "metadata": {},
   "outputs": [],
   "source": [
    "train_gen = DataGenerator(mat,\\\n",
    "                          512,\\\n",
    "                          train_idx\n",
    "                         )\n",
    "val_gen = DataGenerator(mat,\\\n",
    "                        512,\n",
    "                        val_idx\n",
    "                       )"
   ]
  },
  {
   "cell_type": "code",
   "execution_count": 10,
   "id": "b3b33db2",
   "metadata": {},
   "outputs": [
    {
     "name": "stdout",
     "output_type": "stream",
     "text": [
      "Model: \"model\"\n",
      "_________________________________________________________________\n",
      " Layer (type)                Output Shape              Param #   \n",
      "=================================================================\n",
      " dense_input (InputLayer)    [(None, 199683)]          0         \n",
      "                                                                 \n",
      " dense (Dense)               (None, 2048)              408952832 \n",
      "                                                                 \n",
      " batch_normalization (BatchN  (None, 2048)             8192      \n",
      " ormalization)                                                   \n",
      "                                                                 \n",
      " dropout (Dropout)           (None, 2048)              0         \n",
      "                                                                 \n",
      " dense_1 (Dense)             (None, 1024)              2098176   \n",
      "                                                                 \n",
      " batch_normalization_1 (Batc  (None, 1024)             4096      \n",
      " hNormalization)                                                 \n",
      "                                                                 \n",
      " dropout_1 (Dropout)         (None, 1024)              0         \n",
      "                                                                 \n",
      " dense_2 (Dense)             (None, 512)               524800    \n",
      "                                                                 \n",
      " batch_normalization_2 (Batc  (None, 512)              2048      \n",
      " hNormalization)                                                 \n",
      "                                                                 \n",
      " dropout_2 (Dropout)         (None, 512)               0         \n",
      "                                                                 \n",
      " dense_3 (Dense)             (None, 256)               131328    \n",
      "                                                                 \n",
      " sequential_1 (Sequential)   (None, 199683)            308631811 \n",
      "                                                                 \n",
      "=================================================================\n",
      "Total params: 720,353,283\n",
      "Trainable params: 720,339,971\n",
      "Non-trainable params: 13,312\n",
      "_________________________________________________________________\n"
     ]
    }
   ],
   "source": [
    "latent_dim = 256\n",
    "\n",
    "encoder = Sequential([\n",
    "    L.Dense(2048, activation='relu', input_shape=(199683,)),\n",
    "    L.BatchNormalization(),\n",
    "    L.Dropout(0.3),\n",
    "    L.Dense(1024, activation='relu'),\n",
    "    L.BatchNormalization(),\n",
    "    L.Dropout(0.2),\n",
    "    L.Dense(512, activation='relu'),\n",
    "    L.BatchNormalization(),\n",
    "    L.Dropout(0.1),\n",
    "    L.Dense(latent_dim, activation='relu')\n",
    "])\n",
    "\n",
    "decoder = Sequential([\n",
    "    L.BatchNormalization(),\n",
    "    L.Dense(512, activation='relu', input_shape=(latent_dim,)),\n",
    "    L.BatchNormalization(),\n",
    "    L.Dropout(0.1),\n",
    "    L.Dense(768, activation='relu'),\n",
    "    L.BatchNormalization(),\n",
    "    L.Dropout(0.2),\n",
    "    L.Dense(1536, activation='relu'),\n",
    "    L.BatchNormalization(),\n",
    "    L.Dropout(0.3),\n",
    "    L.Dense(199683, activation=None)\n",
    "])\n",
    "\n",
    "autoencoder = Model(inputs=encoder.input, outputs=decoder(encoder.output))\n",
    "autoencoder.summary()"
   ]
  },
  {
   "cell_type": "code",
   "execution_count": 11,
   "id": "a1c1faa0",
   "metadata": {},
   "outputs": [
    {
     "name": "stdout",
     "output_type": "stream",
     "text": [
      "Epoch 1/500\n",
      "731/731 [==============================] - 298s 405ms/step - loss: 0.5394 - val_loss: 0.3820 - lr: 0.0010\n",
      "Epoch 2/500\n",
      "731/731 [==============================] - 295s 403ms/step - loss: 0.2866 - val_loss: 0.2542 - lr: 0.0010\n",
      "Epoch 3/500\n",
      "731/731 [==============================] - 295s 404ms/step - loss: 0.2414 - val_loss: 0.1909 - lr: 0.0010\n",
      "Epoch 4/500\n",
      "731/731 [==============================] - 295s 404ms/step - loss: 0.2117 - val_loss: 0.1699 - lr: 0.0010\n",
      "Epoch 5/500\n",
      "731/731 [==============================] - 295s 404ms/step - loss: 0.1891 - val_loss: 0.1388 - lr: 0.0010\n",
      "Epoch 6/500\n",
      "731/731 [==============================] - 294s 402ms/step - loss: 0.1786 - val_loss: 0.1426 - lr: 0.0010\n",
      "Epoch 7/500\n",
      "731/731 [==============================] - 295s 403ms/step - loss: 0.1717 - val_loss: 0.1243 - lr: 0.0010\n",
      "Epoch 8/500\n",
      "731/731 [==============================] - 293s 401ms/step - loss: 0.1620 - val_loss: 0.1323 - lr: 0.0010\n",
      "Epoch 9/500\n",
      "731/731 [==============================] - 295s 404ms/step - loss: 0.1557 - val_loss: 0.1131 - lr: 0.0010\n",
      "Epoch 10/500\n",
      "731/731 [==============================] - 295s 404ms/step - loss: 0.1502 - val_loss: 0.1061 - lr: 0.0010\n",
      "Epoch 11/500\n",
      "731/731 [==============================] - 295s 404ms/step - loss: 0.1468 - val_loss: 0.1033 - lr: 0.0010\n",
      "Epoch 12/500\n",
      "731/731 [==============================] - 295s 403ms/step - loss: 0.1430 - val_loss: 0.1002 - lr: 0.0010\n",
      "Epoch 13/500\n",
      "731/731 [==============================] - 295s 403ms/step - loss: 0.1395 - val_loss: 0.0972 - lr: 0.0010\n",
      "Epoch 14/500\n",
      "731/731 [==============================] - 295s 403ms/step - loss: 0.1361 - val_loss: 0.0942 - lr: 0.0010\n",
      "Epoch 15/500\n",
      "731/731 [==============================] - 294s 403ms/step - loss: 0.1335 - val_loss: 0.0934 - lr: 0.0010\n",
      "Epoch 16/500\n",
      "731/731 [==============================] - 297s 406ms/step - loss: 0.1310 - val_loss: 0.0898 - lr: 0.0010\n",
      "Epoch 17/500\n",
      "731/731 [==============================] - 296s 405ms/step - loss: 0.1300 - val_loss: 0.0894 - lr: 0.0010\n",
      "Epoch 18/500\n",
      "731/731 [==============================] - 294s 402ms/step - loss: 0.1267 - val_loss: 0.0902 - lr: 0.0010\n",
      "Epoch 19/500\n",
      "731/731 [==============================] - 295s 403ms/step - loss: 0.1262 - val_loss: 0.0842 - lr: 0.0010\n",
      "Epoch 20/500\n",
      "731/731 [==============================] - 295s 403ms/step - loss: 0.1232 - val_loss: 0.0841 - lr: 0.0010\n",
      "Epoch 21/500\n",
      "731/731 [==============================] - 295s 403ms/step - loss: 0.1220 - val_loss: 0.0818 - lr: 0.0010\n",
      "Epoch 22/500\n",
      "731/731 [==============================] - 295s 404ms/step - loss: 0.1209 - val_loss: 0.0793 - lr: 0.0010\n",
      "Epoch 23/500\n",
      "731/731 [==============================] - 295s 404ms/step - loss: 0.1202 - val_loss: 0.0813 - lr: 0.0010\n",
      "Epoch 24/500\n",
      "731/731 [==============================] - 296s 406ms/step - loss: 0.1186 - val_loss: 0.0775 - lr: 0.0010\n",
      "Epoch 25/500\n",
      "731/731 [==============================] - 295s 404ms/step - loss: 0.1161 - val_loss: 0.0799 - lr: 0.0010\n",
      "Epoch 26/500\n",
      "731/731 [==============================] - ETA: 0s - loss: 0.1161\n",
      "Epoch 26: ReduceLROnPlateau reducing learning rate to 0.0005000000237487257.\n",
      "731/731 [==============================] - 292s 400ms/step - loss: 0.1161 - val_loss: 0.0808 - lr: 0.0010\n",
      "Epoch 27/500\n",
      "731/731 [==============================] - 293s 401ms/step - loss: 0.1115 - val_loss: 0.0751 - lr: 5.0000e-04\n",
      "Epoch 28/500\n",
      "731/731 [==============================] - 292s 399ms/step - loss: 0.1103 - val_loss: 0.0751 - lr: 5.0000e-04\n",
      "Epoch 29/500\n",
      "731/731 [==============================] - ETA: 0s - loss: 0.1097\n",
      "Epoch 29: ReduceLROnPlateau reducing learning rate to 0.0002500000118743628.\n",
      "731/731 [==============================] - 292s 400ms/step - loss: 0.1097 - val_loss: 0.0759 - lr: 5.0000e-04\n",
      "Epoch 30/500\n",
      "731/731 [==============================] - 299s 409ms/step - loss: 0.1080 - val_loss: 0.0731 - lr: 2.5000e-04\n",
      "Epoch 31/500\n",
      "731/731 [==============================] - 296s 404ms/step - loss: 0.1073 - val_loss: 0.0722 - lr: 2.5000e-04\n",
      "Epoch 32/500\n",
      "731/731 [==============================] - 292s 399ms/step - loss: 0.1074 - val_loss: 0.0727 - lr: 2.5000e-04\n",
      "Epoch 33/500\n",
      "731/731 [==============================] - ETA: 0s - loss: 0.1071\n",
      "Epoch 33: ReduceLROnPlateau reducing learning rate to 0.0001250000059371814.\n",
      "731/731 [==============================] - 293s 400ms/step - loss: 0.1071 - val_loss: 0.0746 - lr: 2.5000e-04\n",
      "Epoch 34/500\n",
      "731/731 [==============================] - 293s 401ms/step - loss: 0.1055 - val_loss: 0.0733 - lr: 1.2500e-04\n",
      "Epoch 35/500\n",
      "731/731 [==============================] - ETA: 0s - loss: 0.1053Restoring model weights from the end of the best epoch: 31.\n",
      "\n",
      "Epoch 35: ReduceLROnPlateau reducing learning rate to 6.25000029685907e-05.\n",
      "731/731 [==============================] - 295s 404ms/step - loss: 0.1053 - val_loss: 0.0722 - lr: 1.2500e-04\n",
      "Epoch 35: early stopping\n"
     ]
    }
   ],
   "source": [
    "es = EarlyStopping(monitor=\"val_loss\",\n",
    "                   patience=4,\n",
    "                   verbose=1,\n",
    "                   mode=\"min\",\n",
    "                   restore_best_weights=True\n",
    "                  )\n",
    "lr = ReduceLROnPlateau(monitor=\"val_loss\",\n",
    "                       factor=0.5,\n",
    "                       patience=2,\n",
    "                       verbose=1,\n",
    "                       mode=\"min\",\n",
    "                      )\n",
    "\n",
    "opt = O.Adam(learning_rate=1e-3)\n",
    "loss = mse\n",
    "\n",
    "autoencoder.compile(optimizer=opt, \n",
    "              loss=loss,\n",
    "             )\n",
    "history = autoencoder.fit(train_gen,\n",
    "              epochs=500,\n",
    "              validation_data=val_gen,\n",
    "              callbacks=[es,lr]\n",
    "          )"
   ]
  },
  {
   "cell_type": "code",
   "execution_count": 12,
   "id": "665620fc",
   "metadata": {},
   "outputs": [
    {
     "name": "stdout",
     "output_type": "stream",
     "text": [
      "INFO:tensorflow:Assets written to: v5/model_1_rs_1\\assets\n"
     ]
    },
    {
     "name": "stderr",
     "output_type": "stream",
     "text": [
      "INFO:tensorflow:Assets written to: v5/model_1_rs_1\\assets\n"
     ]
    }
   ],
   "source": [
    "autoencoder.save('ae/model_1_rs_1')"
   ]
  },
  {
   "cell_type": "code",
   "execution_count": 15,
   "id": "b9de4891",
   "metadata": {},
   "outputs": [
    {
     "name": "stdout",
     "output_type": "stream",
     "text": [
      "12979/12979 [==============================] - 31s 2ms/step\n"
     ]
    },
    {
     "data": {
      "text/plain": [
       "(415317, 256)"
      ]
     },
     "execution_count": 15,
     "metadata": {},
     "output_type": "execute_result"
    }
   ],
   "source": [
    "emb = encoder.predict(mat)\n",
    "emb.shape"
   ]
  },
  {
   "cell_type": "code",
   "execution_count": 16,
   "id": "557e17af",
   "metadata": {},
   "outputs": [],
   "source": [
    "with open('ae/emb_1.pickle', 'wb') as outp:\n",
    "    pickle.dump(emb, outp, pickle.HIGHEST_PROTOCOL)"
   ]
  },
  {
   "cell_type": "code",
   "execution_count": 17,
   "id": "e8104a0e",
   "metadata": {},
   "outputs": [],
   "source": [
    "K.clear_session()"
   ]
  },
  {
   "cell_type": "code",
   "execution_count": null,
   "id": "35f1323b",
   "metadata": {},
   "outputs": [],
   "source": []
  }
 ],
 "metadata": {
  "kernelspec": {
   "display_name": "Python [conda env:ml_env_v1] *",
   "language": "python",
   "name": "conda-env-ml_env_v1-py"
  },
  "language_info": {
   "codemirror_mode": {
    "name": "ipython",
    "version": 3
   },
   "file_extension": ".py",
   "mimetype": "text/x-python",
   "name": "python",
   "nbconvert_exporter": "python",
   "pygments_lexer": "ipython3",
   "version": "3.10.5"
  }
 },
 "nbformat": 4,
 "nbformat_minor": 5
}
